{
 "cells": [
  {
   "cell_type": "code",
   "execution_count": 92,
   "metadata": {},
   "outputs": [],
   "source": [
    "import pandas as pd\n",
    "import numpy as np\n",
    "\n",
    "from numpy import array\n",
    "from keras.preprocessing.text import Tokenizer\n",
    "from keras.preprocessing.sequence import pad_sequences\n",
    "from keras.utils import to_categorical\n",
    "from keras.models import Sequential\n",
    "from keras.layers import Dense\n",
    "from keras.layers import LSTM\n",
    "from keras.layers import Embedding"
   ]
  },
  {
   "cell_type": "code",
   "execution_count": 22,
   "metadata": {},
   "outputs": [
    {
     "name": "stdout",
     "output_type": "stream",
     "text": [
      "Shape: (250394, 6)\n"
     ]
    },
    {
     "data": {
      "text/html": [
       "<div>\n",
       "<style scoped>\n",
       "    .dataframe tbody tr th:only-of-type {\n",
       "        vertical-align: middle;\n",
       "    }\n",
       "\n",
       "    .dataframe tbody tr th {\n",
       "        vertical-align: top;\n",
       "    }\n",
       "\n",
       "    .dataframe thead th {\n",
       "        text-align: right;\n",
       "    }\n",
       "</style>\n",
       "<table border=\"1\" class=\"dataframe\">\n",
       "  <thead>\n",
       "    <tr style=\"text-align: right;\">\n",
       "      <th></th>\n",
       "      <th>Unnamed: 0</th>\n",
       "      <th>user</th>\n",
       "      <th>sess_id</th>\n",
       "      <th>token</th>\n",
       "      <th>token_type</th>\n",
       "      <th>line_id</th>\n",
       "    </tr>\n",
       "  </thead>\n",
       "  <tbody>\n",
       "    <tr>\n",
       "      <th>0</th>\n",
       "      <td>0</td>\n",
       "      <td>USER8</td>\n",
       "      <td>0</td>\n",
       "      <td>X</td>\n",
       "      <td>cmd</td>\n",
       "      <td>0</td>\n",
       "    </tr>\n",
       "    <tr>\n",
       "      <th>1</th>\n",
       "      <td>1</td>\n",
       "      <td>USER8</td>\n",
       "      <td>0</td>\n",
       "      <td>z</td>\n",
       "      <td>cmd</td>\n",
       "      <td>1</td>\n",
       "    </tr>\n",
       "    <tr>\n",
       "      <th>2</th>\n",
       "      <td>2</td>\n",
       "      <td>USER8</td>\n",
       "      <td>2</td>\n",
       "      <td>cd</td>\n",
       "      <td>cmd</td>\n",
       "      <td>0</td>\n",
       "    </tr>\n",
       "    <tr>\n",
       "      <th>3</th>\n",
       "      <td>3</td>\n",
       "      <td>USER8</td>\n",
       "      <td>2</td>\n",
       "      <td>&lt;1&gt;</td>\n",
       "      <td>args</td>\n",
       "      <td>0</td>\n",
       "    </tr>\n",
       "    <tr>\n",
       "      <th>4</th>\n",
       "      <td>4</td>\n",
       "      <td>USER8</td>\n",
       "      <td>2</td>\n",
       "      <td>cd</td>\n",
       "      <td>cmd</td>\n",
       "      <td>1</td>\n",
       "    </tr>\n",
       "    <tr>\n",
       "      <th>5</th>\n",
       "      <td>5</td>\n",
       "      <td>USER8</td>\n",
       "      <td>2</td>\n",
       "      <td>&lt;1&gt;</td>\n",
       "      <td>args</td>\n",
       "      <td>1</td>\n",
       "    </tr>\n",
       "    <tr>\n",
       "      <th>6</th>\n",
       "      <td>6</td>\n",
       "      <td>USER8</td>\n",
       "      <td>2</td>\n",
       "      <td>ll</td>\n",
       "      <td>cmd</td>\n",
       "      <td>2</td>\n",
       "    </tr>\n",
       "    <tr>\n",
       "      <th>7</th>\n",
       "      <td>7</td>\n",
       "      <td>USER8</td>\n",
       "      <td>2</td>\n",
       "      <td>vi</td>\n",
       "      <td>cmd</td>\n",
       "      <td>3</td>\n",
       "    </tr>\n",
       "    <tr>\n",
       "      <th>8</th>\n",
       "      <td>8</td>\n",
       "      <td>USER8</td>\n",
       "      <td>2</td>\n",
       "      <td>&lt;1&gt;</td>\n",
       "      <td>args</td>\n",
       "      <td>3</td>\n",
       "    </tr>\n",
       "    <tr>\n",
       "      <th>9</th>\n",
       "      <td>9</td>\n",
       "      <td>USER8</td>\n",
       "      <td>2</td>\n",
       "      <td>vi</td>\n",
       "      <td>cmd</td>\n",
       "      <td>4</td>\n",
       "    </tr>\n",
       "    <tr>\n",
       "      <th>10</th>\n",
       "      <td>10</td>\n",
       "      <td>USER8</td>\n",
       "      <td>2</td>\n",
       "      <td>&lt;1&gt;</td>\n",
       "      <td>args</td>\n",
       "      <td>4</td>\n",
       "    </tr>\n",
       "    <tr>\n",
       "      <th>11</th>\n",
       "      <td>11</td>\n",
       "      <td>USER8</td>\n",
       "      <td>2</td>\n",
       "      <td>z</td>\n",
       "      <td>cmd</td>\n",
       "      <td>5</td>\n",
       "    </tr>\n",
       "    <tr>\n",
       "      <th>12</th>\n",
       "      <td>12</td>\n",
       "      <td>USER8</td>\n",
       "      <td>4</td>\n",
       "      <td>elm</td>\n",
       "      <td>cmd</td>\n",
       "      <td>0</td>\n",
       "    </tr>\n",
       "    <tr>\n",
       "      <th>13</th>\n",
       "      <td>13</td>\n",
       "      <td>USER8</td>\n",
       "      <td>4</td>\n",
       "      <td>cd</td>\n",
       "      <td>cmd</td>\n",
       "      <td>1</td>\n",
       "    </tr>\n",
       "    <tr>\n",
       "      <th>14</th>\n",
       "      <td>14</td>\n",
       "      <td>USER8</td>\n",
       "      <td>4</td>\n",
       "      <td>&lt;1&gt;</td>\n",
       "      <td>args</td>\n",
       "      <td>1</td>\n",
       "    </tr>\n",
       "    <tr>\n",
       "      <th>15</th>\n",
       "      <td>15</td>\n",
       "      <td>USER8</td>\n",
       "      <td>4</td>\n",
       "      <td>matlab</td>\n",
       "      <td>cmd</td>\n",
       "      <td>2</td>\n",
       "    </tr>\n",
       "    <tr>\n",
       "      <th>16</th>\n",
       "      <td>16</td>\n",
       "      <td>USER8</td>\n",
       "      <td>4</td>\n",
       "      <td>z</td>\n",
       "      <td>cmd</td>\n",
       "      <td>3</td>\n",
       "    </tr>\n",
       "    <tr>\n",
       "      <th>17</th>\n",
       "      <td>17</td>\n",
       "      <td>USER8</td>\n",
       "      <td>5</td>\n",
       "      <td>X</td>\n",
       "      <td>cmd</td>\n",
       "      <td>0</td>\n",
       "    </tr>\n",
       "    <tr>\n",
       "      <th>18</th>\n",
       "      <td>18</td>\n",
       "      <td>USER8</td>\n",
       "      <td>5</td>\n",
       "      <td>z</td>\n",
       "      <td>cmd</td>\n",
       "      <td>1</td>\n",
       "    </tr>\n",
       "    <tr>\n",
       "      <th>19</th>\n",
       "      <td>19</td>\n",
       "      <td>USER8</td>\n",
       "      <td>6</td>\n",
       "      <td>vi</td>\n",
       "      <td>cmd</td>\n",
       "      <td>0</td>\n",
       "    </tr>\n",
       "  </tbody>\n",
       "</table>\n",
       "</div>"
      ],
      "text/plain": [
       "    Unnamed: 0   user  sess_id   token token_type  line_id\n",
       "0            0  USER8        0       X        cmd        0\n",
       "1            1  USER8        0       z        cmd        1\n",
       "2            2  USER8        2      cd        cmd        0\n",
       "3            3  USER8        2     <1>       args        0\n",
       "4            4  USER8        2      cd        cmd        1\n",
       "5            5  USER8        2     <1>       args        1\n",
       "6            6  USER8        2      ll        cmd        2\n",
       "7            7  USER8        2      vi        cmd        3\n",
       "8            8  USER8        2     <1>       args        3\n",
       "9            9  USER8        2      vi        cmd        4\n",
       "10          10  USER8        2     <1>       args        4\n",
       "11          11  USER8        2       z        cmd        5\n",
       "12          12  USER8        4     elm        cmd        0\n",
       "13          13  USER8        4      cd        cmd        1\n",
       "14          14  USER8        4     <1>       args        1\n",
       "15          15  USER8        4  matlab        cmd        2\n",
       "16          16  USER8        4       z        cmd        3\n",
       "17          17  USER8        5       X        cmd        0\n",
       "18          18  USER8        5       z        cmd        1\n",
       "19          19  USER8        6      vi        cmd        0"
      ]
     },
     "execution_count": 22,
     "metadata": {},
     "output_type": "execute_result"
    }
   ],
   "source": [
    "dataset = pd.read_csv('data/04_dataset.tsv', sep='\\t')\n",
    "print('Shape: ' + str(dataset.shape))\n",
    "dataset.head(20)"
   ]
  },
  {
   "cell_type": "markdown",
   "metadata": {},
   "source": [
    "## Model 1: One-Word-In, One-Word-Out Sequences\n",
    "This is what we would use if we want to predict the next word as you're typing."
   ]
  },
  {
   "cell_type": "code",
   "execution_count": 120,
   "metadata": {},
   "outputs": [
    {
     "name": "stdout",
     "output_type": "stream",
     "text": [
      "CPU times: user 6.94 s, sys: 42 ms, total: 6.98 s\n",
      "Wall time: 6.99 s\n"
     ]
    }
   ],
   "source": [
    "%%time\n",
    "# make corpus\n",
    "corpus = list()\n",
    "\n",
    "def make_sentence(df):\n",
    "    sentence = ''\n",
    "    for t in df.token:\n",
    "        sentence = sentence + str(t) + ' '\n",
    "    sentence = sentence + '\\n'\n",
    "    corpus.append(sentence)\n",
    "    \n",
    "dataset.groupby(['user', 'sess_id', 'line_id']).apply(make_sentence)"
   ]
  },
  {
   "cell_type": "code",
   "execution_count": 122,
   "metadata": {},
   "outputs": [],
   "source": [
    "corpus = ''.join(corpus)"
   ]
  },
  {
   "cell_type": "code",
   "execution_count": 141,
   "metadata": {},
   "outputs": [
    {
     "name": "stdout",
     "output_type": "stream",
     "text": [
      "CPU times: user 181 ms, sys: 16.1 ms, total: 198 ms\n",
      "Wall time: 197 ms\n"
     ]
    }
   ],
   "source": [
    "%%time\n",
    "# integer encode text\n",
    "tokenizer = Tokenizer()\n",
    "tokenizer.fit_on_texts([corpus])\n",
    "encoded = tokenizer.texts_to_sequences([corpus])[0]"
   ]
  },
  {
   "cell_type": "code",
   "execution_count": 142,
   "metadata": {},
   "outputs": [
    {
     "name": "stdout",
     "output_type": "stream",
     "text": [
      "Vocabulary Size: 1864\n"
     ]
    }
   ],
   "source": [
    "# determine the vocabulary size\n",
    "vocab_size = len(tokenizer.word_index)+1\n",
    "print('Vocabulary Size: %d'  % vocab_size)"
   ]
  },
  {
   "cell_type": "code",
   "execution_count": 143,
   "metadata": {},
   "outputs": [
    {
     "name": "stdout",
     "output_type": "stream",
     "text": [
      "Total Sequences: 248732\n",
      "CPU times: user 351 ms, sys: 9.3 ms, total: 360 ms\n",
      "Wall time: 359 ms\n"
     ]
    }
   ],
   "source": [
    "%%time\n",
    "# create word -> word sequences\n",
    "sequences = list()\n",
    "for i in range(1, len(encoded)):\n",
    "    sequence = encoded[i-1:i+1]\n",
    "    sequences.append(sequence)\n",
    "print('Total Sequences: %d' % len(sequences))"
   ]
  },
  {
   "cell_type": "code",
   "execution_count": 144,
   "metadata": {},
   "outputs": [],
   "source": [
    "# split into X and y elements\n",
    "sequences = array(sequences)\n",
    "X, y = sequences[:,0], sequences[:,1]"
   ]
  },
  {
   "cell_type": "code",
   "execution_count": 145,
   "metadata": {},
   "outputs": [],
   "source": [
    "# one hot encode outputs\n",
    "y = to_categorical(y, num_classes=vocab_size)"
   ]
  },
  {
   "cell_type": "code",
   "execution_count": 146,
   "metadata": {},
   "outputs": [
    {
     "name": "stdout",
     "output_type": "stream",
     "text": [
      "_________________________________________________________________\n",
      "Layer (type)                 Output Shape              Param #   \n",
      "=================================================================\n",
      "embedding_9 (Embedding)      (None, 1, 10)             18640     \n",
      "_________________________________________________________________\n",
      "lstm_9 (LSTM)                (None, 100)               44400     \n",
      "_________________________________________________________________\n",
      "dense_9 (Dense)              (None, 1864)              188264    \n",
      "=================================================================\n",
      "Total params: 251,304\n",
      "Trainable params: 251,304\n",
      "Non-trainable params: 0\n",
      "_________________________________________________________________\n",
      "None\n"
     ]
    }
   ],
   "source": [
    "# define model\n",
    "model = Sequential()\n",
    "model.add(Embedding(vocab_size, 10, input_length=1))\n",
    "model.add(LSTM(100))\n",
    "model.add(Dense(vocab_size, activation='softmax'))\n",
    "print(model.summary())"
   ]
  },
  {
   "cell_type": "code",
   "execution_count": 147,
   "metadata": {},
   "outputs": [
    {
     "name": "stdout",
     "output_type": "stream",
     "text": [
      "Epoch 1/10\n",
      " - 38s - loss: 3.1863 - acc: 0.3772\n",
      "Epoch 2/10\n",
      " - 36s - loss: 2.7910 - acc: 0.4232\n",
      "Epoch 3/10\n",
      " - 36s - loss: 2.6940 - acc: 0.4317\n",
      "Epoch 4/10\n",
      " - 36s - loss: 2.6493 - acc: 0.4356\n",
      "Epoch 5/10\n",
      " - 40s - loss: 2.6215 - acc: 0.4371\n",
      "Epoch 6/10\n",
      " - 44s - loss: 2.6028 - acc: 0.4382\n",
      "Epoch 7/10\n",
      " - 43s - loss: 2.5897 - acc: 0.4388\n",
      "Epoch 8/10\n",
      " - 43s - loss: 2.5793 - acc: 0.4391\n",
      "Epoch 9/10\n",
      " - 44s - loss: 2.5716 - acc: 0.4398\n",
      "Epoch 10/10\n",
      " - 40s - loss: 2.5642 - acc: 0.4402\n",
      "CPU times: user 22min 23s, sys: 4min 32s, total: 26min 56s\n",
      "Wall time: 6min 40s\n"
     ]
    }
   ],
   "source": [
    "%%time\n",
    "\n",
    "# compile net\n",
    "model.compile(loss='categorical_crossentropy', optimizer='adam', metrics=['accuracy'])\n",
    "\n",
    "# fit net\n",
    "model.fit(X, y, epochs=10, verbose=2)"
   ]
  },
  {
   "cell_type": "code",
   "execution_count": 148,
   "metadata": {},
   "outputs": [],
   "source": [
    "# generate sequence of commands\n",
    "\n",
    "def generate_seq(model, tokenizer, seed_text, n_words):\n",
    "\tin_text, result = seed_text, seed_text\n",
    "\t\n",
    "    # generate a fixed number of words\n",
    "\tfor _ in range(n_words):\n",
    "\t\t\n",
    "        # encode the text as integer\n",
    "\t\tencoded = tokenizer.texts_to_sequences([in_text])[0]\n",
    "\t\tencoded = array(encoded)\n",
    "\t\t\n",
    "        # predict a word in the vocabulary\n",
    "\t\tyhat = model.predict(encoded, verbose=0)\n",
    "\t\t\n",
    "        # map predicted word index to word\n",
    "\t\tout_word = ''\n",
    "\t\tfor word, index in tokenizer.word_index.items():\n",
    "\t\t\tif index == yhat:\n",
    "\t\t\t\tout_word = word\n",
    "\t\t\t\tbreak\n",
    "\t\t\n",
    "        # append to input\n",
    "\t\tin_text, result = out_word, result + ' ' + out_word\n",
    "\treturn result"
   ]
  },
  {
   "cell_type": "code",
   "execution_count": 149,
   "metadata": {},
   "outputs": [
    {
     "ename": "ValueError",
     "evalue": "The truth value of an array with more than one element is ambiguous. Use a.any() or a.all()",
     "output_type": "error",
     "traceback": [
      "\u001b[0;31m---------------------------------------------------------------------------\u001b[0m",
      "\u001b[0;31mValueError\u001b[0m                                Traceback (most recent call last)",
      "\u001b[0;32m<ipython-input-149-daa990fe0a42>\u001b[0m in \u001b[0;36m<module>\u001b[0;34m\u001b[0m\n\u001b[1;32m      1\u001b[0m \u001b[0;31m# evaluate\u001b[0m\u001b[0;34m\u001b[0m\u001b[0;34m\u001b[0m\u001b[0m\n\u001b[0;32m----> 2\u001b[0;31m \u001b[0mresult\u001b[0m \u001b[0;34m=\u001b[0m \u001b[0mgenerate_seq\u001b[0m\u001b[0;34m(\u001b[0m\u001b[0mmodel\u001b[0m\u001b[0;34m,\u001b[0m \u001b[0mtokenizer\u001b[0m\u001b[0;34m,\u001b[0m \u001b[0;34m'cd'\u001b[0m\u001b[0;34m,\u001b[0m \u001b[0;36m3\u001b[0m\u001b[0;34m)\u001b[0m\u001b[0;34m\u001b[0m\u001b[0m\n\u001b[0m\u001b[1;32m      3\u001b[0m \u001b[0mresult\u001b[0m\u001b[0;34m\u001b[0m\u001b[0m\n",
      "\u001b[0;32m<ipython-input-148-25b9a3dbeaf3>\u001b[0m in \u001b[0;36mgenerate_seq\u001b[0;34m(model, tokenizer, seed_text, n_words)\u001b[0m\n\u001b[1;32m     17\u001b[0m                 \u001b[0mout_word\u001b[0m \u001b[0;34m=\u001b[0m \u001b[0;34m''\u001b[0m\u001b[0;34m\u001b[0m\u001b[0m\n\u001b[1;32m     18\u001b[0m                 \u001b[0;32mfor\u001b[0m \u001b[0mword\u001b[0m\u001b[0;34m,\u001b[0m \u001b[0mindex\u001b[0m \u001b[0;32min\u001b[0m \u001b[0mtokenizer\u001b[0m\u001b[0;34m.\u001b[0m\u001b[0mword_index\u001b[0m\u001b[0;34m.\u001b[0m\u001b[0mitems\u001b[0m\u001b[0;34m(\u001b[0m\u001b[0;34m)\u001b[0m\u001b[0;34m:\u001b[0m\u001b[0;34m\u001b[0m\u001b[0m\n\u001b[0;32m---> 19\u001b[0;31m                         \u001b[0;32mif\u001b[0m \u001b[0mindex\u001b[0m \u001b[0;34m==\u001b[0m \u001b[0myhat\u001b[0m\u001b[0;34m:\u001b[0m\u001b[0;34m\u001b[0m\u001b[0m\n\u001b[0m\u001b[1;32m     20\u001b[0m                                 \u001b[0mout_word\u001b[0m \u001b[0;34m=\u001b[0m \u001b[0mword\u001b[0m\u001b[0;34m\u001b[0m\u001b[0m\n\u001b[1;32m     21\u001b[0m                                 \u001b[0;32mbreak\u001b[0m\u001b[0;34m\u001b[0m\u001b[0m\n",
      "\u001b[0;31mValueError\u001b[0m: The truth value of an array with more than one element is ambiguous. Use a.any() or a.all()"
     ]
    }
   ],
   "source": [
    "# evaluate\n",
    "result = generate_seq(model, tokenizer, 'cd', 3)\n",
    "result"
   ]
  },
  {
   "cell_type": "code",
   "execution_count": 87,
   "metadata": {},
   "outputs": [
    {
     "name": "stdout",
     "output_type": "stream",
     "text": [
      "cd <1>\n",
      "ls\n"
     ]
    }
   ],
   "source": [
    "# evaluate\n",
    "in_text = 'cd <1>\\nls'\n",
    "print(in_text)\n",
    "encoded = tokenizer.texts_to_sequences([in_text])[0]\n",
    "encoded = array(encoded)\n",
    "yhat = model.predict(encoded, verbose=0)\n",
    "for word, index in tokenizer.word_index.items():\n",
    "\tif index == yhat:\n",
    "\t\tprint(word)"
   ]
  },
  {
   "cell_type": "markdown",
   "metadata": {},
   "source": [
    "## Model 2: Line by Line Sequence\n",
    "This approach may allow the model to use the context of each line to help the model in those cases where a simple one-word-in-and-out model creates ambiguity."
   ]
  },
  {
   "cell_type": "code",
   "execution_count": 93,
   "metadata": {},
   "outputs": [
    {
     "name": "stdout",
     "output_type": "stream",
     "text": [
      "Vocabulary Size: 1864\n",
      "Total Sequences: 103014\n",
      "Max Sequence Length: 32\n",
      "_________________________________________________________________\n",
      "Layer (type)                 Output Shape              Param #   \n",
      "=================================================================\n",
      "embedding_2 (Embedding)      (None, 31, 10)            18640     \n",
      "_________________________________________________________________\n",
      "lstm_2 (LSTM)                (None, 100)               44400     \n",
      "_________________________________________________________________\n",
      "dense_2 (Dense)              (None, 1864)              188264    \n",
      "=================================================================\n",
      "Total params: 251,304\n",
      "Trainable params: 251,304\n",
      "Non-trainable params: 0\n",
      "_________________________________________________________________\n",
      "None\n",
      "Epoch 1/10\n",
      " - 79s - loss: 1.5611 - acc: 0.7301\n",
      "Epoch 2/10\n",
      " - 78s - loss: 1.3113 - acc: 0.7492\n",
      "Epoch 3/10\n",
      " - 78s - loss: 1.2021 - acc: 0.7504\n",
      "Epoch 4/10\n",
      " - 80s - loss: 1.1349 - acc: 0.7564\n",
      "Epoch 5/10\n",
      " - 79s - loss: 1.0909 - acc: 0.7630\n",
      "Epoch 6/10\n",
      " - 78s - loss: 1.0533 - acc: 0.7665\n",
      "Epoch 7/10\n",
      " - 78s - loss: 1.0267 - acc: 0.7681\n",
      "Epoch 8/10\n",
      " - 78s - loss: 1.0023 - acc: 0.7697\n",
      "Epoch 9/10\n",
      " - 78s - loss: 0.9772 - acc: 0.7738\n",
      "Epoch 10/10\n",
      " - 79s - loss: 0.9542 - acc: 0.7859\n"
     ]
    },
    {
     "data": {
      "text/plain": [
       "<keras.callbacks.History at 0xb2e58bd30>"
      ]
     },
     "execution_count": 93,
     "metadata": {},
     "output_type": "execute_result"
    }
   ],
   "source": [
    "# prepare the tokenizer on the source text\n",
    "tokenizer = Tokenizer()\n",
    "tokenizer.fit_on_texts([corpus])\n",
    "\n",
    "# determine the vocabulary size\n",
    "vocab_size = len(tokenizer.word_index) + 1\n",
    "print('Vocabulary Size: %d' % vocab_size)\n",
    "\n",
    "# create line-based sequences\n",
    "sequences = list()\n",
    "for line in ''.join(corpus).split('\\n'):\n",
    "\tencoded = tokenizer.texts_to_sequences([line])[0]\n",
    "\tfor i in range(1, len(encoded)):\n",
    "\t\tsequence = encoded[:i+1]\n",
    "\t\tsequences.append(sequence)\n",
    "print('Total Sequences: %d' % len(sequences))\n",
    "\n",
    "#pad input sequences\n",
    "max_length = max([len(seq) for seq in sequences])\n",
    "sequences = pad_sequences(sequences, maxlen=max_length, padding='pre')\n",
    "print('Max Sequence Length: %d' % max_length)\n",
    "\n",
    "# split into input and output elements\n",
    "sequences = array(sequences)\n",
    "X, y = sequences[:,:-1],sequences[:,-1]\n",
    "y = to_categorical(y, num_classes=vocab_size)\n",
    "\n",
    "# define model\n",
    "model = Sequential()\n",
    "model.add(Embedding(vocab_size, 10, input_length=max_length-1))\n",
    "model.add(LSTM(100))\n",
    "model.add(Dense(vocab_size, activation='softmax'))\n",
    "print(model.summary())\n",
    "\n",
    "# compile network\n",
    "model.compile(loss='categorical_crossentropy', optimizer='adam', metrics=['accuracy'])\n",
    "\n",
    "# fit network\n",
    "model.fit(X, y, epochs=10, verbose=2)"
   ]
  },
  {
   "cell_type": "markdown",
   "metadata": {},
   "source": [
    "## Model 3: Two-Words-In, One-Word-Out Sequence\n",
    "Intermediate between the one-word-in and the whole-sentence-in approaches and pass in sub-sequences of sentences as input. This will provide a trade-off between the two previous models allowing new lines to be generated and for generation to be picked up mid line."
   ]
  },
  {
   "cell_type": "code",
   "execution_count": 132,
   "metadata": {},
   "outputs": [
    {
     "name": "stdout",
     "output_type": "stream",
     "text": [
      "Vocabulary Size: 1864\n",
      "Total Sequences: 248731\n",
      "Max Sequence Length: 3\n",
      "_________________________________________________________________\n",
      "Layer (type)                 Output Shape              Param #   \n",
      "=================================================================\n",
      "embedding_7 (Embedding)      (None, 2, 10)             18640     \n",
      "_________________________________________________________________\n",
      "lstm_7 (LSTM)                (None, 100)               44400     \n",
      "_________________________________________________________________\n",
      "dense_7 (Dense)              (None, 1864)              188264    \n",
      "=================================================================\n",
      "Total params: 251,304\n",
      "Trainable params: 251,304\n",
      "Non-trainable params: 0\n",
      "_________________________________________________________________\n",
      "None\n",
      "Epoch 1/10\n",
      " - 41s - loss: 3.0479 - acc: 0.3972\n",
      "Epoch 2/10\n",
      " - 40s - loss: 2.4773 - acc: 0.4740\n",
      "Epoch 3/10\n",
      " - 41s - loss: 2.3231 - acc: 0.4913\n",
      "Epoch 4/10\n",
      " - 40s - loss: 2.2477 - acc: 0.4995\n",
      "Epoch 5/10\n",
      " - 39s - loss: 2.2017 - acc: 0.5035\n",
      "Epoch 6/10\n",
      " - 41s - loss: 2.1700 - acc: 0.5072\n",
      "Epoch 7/10\n",
      " - 39s - loss: 2.1459 - acc: 0.5092\n",
      "Epoch 8/10\n",
      " - 40s - loss: 2.1256 - acc: 0.5118\n",
      "Epoch 9/10\n",
      " - 41s - loss: 2.1105 - acc: 0.5133\n",
      "Epoch 10/10\n",
      " - 39s - loss: 2.0964 - acc: 0.5150\n"
     ]
    },
    {
     "data": {
      "text/plain": [
       "<keras.callbacks.History at 0xb337e8c88>"
      ]
     },
     "execution_count": 132,
     "metadata": {},
     "output_type": "execute_result"
    }
   ],
   "source": [
    "# integer encode sequences of words\n",
    "tokenizer = Tokenizer()\n",
    "tokenizer.fit_on_texts([corpus])\n",
    "encoded = tokenizer.texts_to_sequences([corpus])[0]\n",
    "\n",
    "# retrieve vocabulary size\n",
    "vocab_size = len(tokenizer.word_index) + 1\n",
    "print('Vocabulary Size: %d' % vocab_size)\n",
    "\n",
    "# encode 2 words -> 1 word\n",
    "sequences = list()\n",
    "for i in range(2, len(encoded)):\n",
    "\tsequence = encoded[i-2:i+1]\n",
    "\tsequences.append(sequence)\n",
    "print('Total Sequences: %d' % len(sequences))\n",
    "\n",
    "# pad sequences\n",
    "max_length = max([len(seq) for seq in sequences])\n",
    "sequences = pad_sequences(sequences, maxlen=max_length, padding='pre')\n",
    "print('Max Sequence Length: %d' % max_length)\n",
    "\n",
    "# split into input and output elements\n",
    "sequences = array(sequences)\n",
    "X, y = sequences[:,:-1],sequences[:,-1]\n",
    "y = to_categorical(y, num_classes=vocab_size)\n",
    "\n",
    "# define model\n",
    "model = Sequential()\n",
    "model.add(Embedding(vocab_size, 10, input_length=max_length-1))\n",
    "model.add(LSTM(100))\n",
    "model.add(Dense(vocab_size, activation='softmax'))\n",
    "print(model.summary())\n",
    "\n",
    "# compile network\n",
    "model.compile(loss='categorical_crossentropy', optimizer='adam', metrics=['accuracy'])\n",
    "\n",
    "# fit network\n",
    "model.fit(X, y, epochs=10, verbose=2)"
   ]
  },
  {
   "cell_type": "code",
   "execution_count": null,
   "metadata": {},
   "outputs": [],
   "source": []
  }
 ],
 "metadata": {
  "kernelspec": {
   "display_name": "Python 3",
   "language": "python",
   "name": "python3"
  },
  "language_info": {
   "codemirror_mode": {
    "name": "ipython",
    "version": 3
   },
   "file_extension": ".py",
   "mimetype": "text/x-python",
   "name": "python",
   "nbconvert_exporter": "python",
   "pygments_lexer": "ipython3",
   "version": "3.6.6"
  }
 },
 "nbformat": 4,
 "nbformat_minor": 2
}
