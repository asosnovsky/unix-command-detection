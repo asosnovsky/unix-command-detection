{
 "cells": [
  {
   "cell_type": "code",
   "execution_count": 61,
   "metadata": {},
   "outputs": [],
   "source": [
    "import pandas as pd\n",
    "import numpy as np\n",
    "import matplotlib.pyplot as plt\n",
    "\n",
    "from keras.preprocessing.sequence import pad_sequences\n",
    "from keras.preprocessing.text import Tokenizer\n",
    "from keras.utils import to_categorical\n",
    "from keras.models import Sequential\n",
    "from keras.layers import Dense\n",
    "from keras.layers import LSTM\n",
    "from keras.layers import Embedding\n",
    "\n",
    "from sklearn.model_selection import train_test_split\n",
    "\n",
    "# Our Helper Functions\n",
    "from helper import *"
   ]
  },
  {
   "cell_type": "markdown",
   "metadata": {},
   "source": [
    "# Read Dataset"
   ]
  },
  {
   "cell_type": "code",
   "execution_count": 2,
   "metadata": {},
   "outputs": [],
   "source": [
    "lines = pd.read_pickle(\"./data/02_bin/01_lines.bin\")"
   ]
  },
  {
   "cell_type": "code",
   "execution_count": 3,
   "metadata": {},
   "outputs": [
    {
     "data": {
      "text/html": [
       "<div>\n",
       "<style scoped>\n",
       "    .dataframe tbody tr th:only-of-type {\n",
       "        vertical-align: middle;\n",
       "    }\n",
       "\n",
       "    .dataframe tbody tr th {\n",
       "        vertical-align: top;\n",
       "    }\n",
       "\n",
       "    .dataframe thead th {\n",
       "        text-align: right;\n",
       "    }\n",
       "</style>\n",
       "<table border=\"1\" class=\"dataframe\">\n",
       "  <thead>\n",
       "    <tr style=\"text-align: right;\">\n",
       "      <th></th>\n",
       "      <th>user</th>\n",
       "      <th>sess_id</th>\n",
       "      <th>line_id</th>\n",
       "      <th>line_text</th>\n",
       "    </tr>\n",
       "  </thead>\n",
       "  <tbody>\n",
       "    <tr>\n",
       "      <th>0</th>\n",
       "      <td>USER1+0</td>\n",
       "      <td>USER0-&gt;0</td>\n",
       "      <td>0</td>\n",
       "      <td>whoami</td>\n",
       "    </tr>\n",
       "    <tr>\n",
       "      <th>1</th>\n",
       "      <td>USER1+0</td>\n",
       "      <td>USER0-&gt;0</td>\n",
       "      <td>1</td>\n",
       "      <td>pwd</td>\n",
       "    </tr>\n",
       "    <tr>\n",
       "      <th>2</th>\n",
       "      <td>USER1+0</td>\n",
       "      <td>USER0-&gt;0</td>\n",
       "      <td>2</td>\n",
       "      <td>ls</td>\n",
       "    </tr>\n",
       "    <tr>\n",
       "      <th>3</th>\n",
       "      <td>USER1+0</td>\n",
       "      <td>USER0-&gt;0</td>\n",
       "      <td>3</td>\n",
       "      <td>dir</td>\n",
       "    </tr>\n",
       "    <tr>\n",
       "      <th>4</th>\n",
       "      <td>USER1+0</td>\n",
       "      <td>USER0-&gt;0</td>\n",
       "      <td>4</td>\n",
       "      <td>vi</td>\n",
       "    </tr>\n",
       "  </tbody>\n",
       "</table>\n",
       "</div>"
      ],
      "text/plain": [
       "      user   sess_id  line_id line_text\n",
       "0  USER1+0  USER0->0        0    whoami\n",
       "1  USER1+0  USER0->0        1       pwd\n",
       "2  USER1+0  USER0->0        2        ls\n",
       "3  USER1+0  USER0->0        3       dir\n",
       "4  USER1+0  USER0->0        4        vi"
      ]
     },
     "execution_count": 3,
     "metadata": {},
     "output_type": "execute_result"
    }
   ],
   "source": [
    "lines.head()"
   ]
  },
  {
   "cell_type": "markdown",
   "metadata": {},
   "source": [
    "# Tokenize Dataset"
   ]
  },
  {
   "cell_type": "code",
   "execution_count": 4,
   "metadata": {},
   "outputs": [],
   "source": [
    "corpus = lines.line_text\n",
    "tokenizer = Tokenizer(lower=False, split=' ', filters=\"\")\n",
    "tokenizer.fit_on_texts(corpus)\n",
    "vocab_size = len(tokenizer.word_index)+1\n",
    "encoded = tokenizer.texts_to_sequences(corpus)"
   ]
  },
  {
   "cell_type": "code",
   "execution_count": 5,
   "metadata": {},
   "outputs": [
    {
     "data": {
      "text/html": [
       "<div>\n",
       "<style scoped>\n",
       "    .dataframe tbody tr th:only-of-type {\n",
       "        vertical-align: middle;\n",
       "    }\n",
       "\n",
       "    .dataframe tbody tr th {\n",
       "        vertical-align: top;\n",
       "    }\n",
       "\n",
       "    .dataframe thead th {\n",
       "        text-align: right;\n",
       "    }\n",
       "</style>\n",
       "<table border=\"1\" class=\"dataframe\">\n",
       "  <thead>\n",
       "    <tr style=\"text-align: right;\">\n",
       "      <th></th>\n",
       "      <th>line_text</th>\n",
       "      <th>encoded</th>\n",
       "    </tr>\n",
       "  </thead>\n",
       "  <tbody>\n",
       "    <tr>\n",
       "      <th>0</th>\n",
       "      <td>whoami</td>\n",
       "      <td>[485]</td>\n",
       "    </tr>\n",
       "    <tr>\n",
       "      <th>1</th>\n",
       "      <td>pwd</td>\n",
       "      <td>[42]</td>\n",
       "    </tr>\n",
       "    <tr>\n",
       "      <th>2</th>\n",
       "      <td>ls</td>\n",
       "      <td>[3]</td>\n",
       "    </tr>\n",
       "    <tr>\n",
       "      <th>3</th>\n",
       "      <td>dir</td>\n",
       "      <td>[22]</td>\n",
       "    </tr>\n",
       "    <tr>\n",
       "      <th>4</th>\n",
       "      <td>vi</td>\n",
       "      <td>[6]</td>\n",
       "    </tr>\n",
       "    <tr>\n",
       "      <th>5</th>\n",
       "      <td>source &lt;1&gt;</td>\n",
       "      <td>[100, 1]</td>\n",
       "    </tr>\n",
       "    <tr>\n",
       "      <th>6</th>\n",
       "      <td>source &lt;1&gt;</td>\n",
       "      <td>[100, 1]</td>\n",
       "    </tr>\n",
       "    <tr>\n",
       "      <th>7</th>\n",
       "      <td>exit</td>\n",
       "      <td>[13]</td>\n",
       "    </tr>\n",
       "    <tr>\n",
       "      <th>8</th>\n",
       "      <td>whereis &lt;1&gt;</td>\n",
       "      <td>[293, 1]</td>\n",
       "    </tr>\n",
       "    <tr>\n",
       "      <th>9</th>\n",
       "      <td>mkdir &lt;1&gt;</td>\n",
       "      <td>[74, 1]</td>\n",
       "    </tr>\n",
       "  </tbody>\n",
       "</table>\n",
       "</div>"
      ],
      "text/plain": [
       "     line_text   encoded\n",
       "0       whoami     [485]\n",
       "1          pwd      [42]\n",
       "2           ls       [3]\n",
       "3          dir      [22]\n",
       "4           vi       [6]\n",
       "5   source <1>  [100, 1]\n",
       "6   source <1>  [100, 1]\n",
       "7         exit      [13]\n",
       "8  whereis <1>  [293, 1]\n",
       "9    mkdir <1>   [74, 1]"
      ]
     },
     "execution_count": 5,
     "metadata": {},
     "output_type": "execute_result"
    }
   ],
   "source": [
    "corpus.to_frame().assign(encoded=encoded).head(10)"
   ]
  },
  {
   "cell_type": "markdown",
   "metadata": {},
   "source": [
    "# Model 1: One-Word-In, One-Word-Out Sequences"
   ]
  },
  {
   "cell_type": "code",
   "execution_count": 7,
   "metadata": {},
   "outputs": [
    {
     "data": {
      "text/html": [
       "<div>\n",
       "<style scoped>\n",
       "    .dataframe tbody tr th:only-of-type {\n",
       "        vertical-align: middle;\n",
       "    }\n",
       "\n",
       "    .dataframe tbody tr th {\n",
       "        vertical-align: top;\n",
       "    }\n",
       "\n",
       "    .dataframe thead th {\n",
       "        text-align: right;\n",
       "    }\n",
       "</style>\n",
       "<table border=\"1\" class=\"dataframe\">\n",
       "  <thead>\n",
       "    <tr style=\"text-align: right;\">\n",
       "      <th></th>\n",
       "      <th>line_text</th>\n",
       "      <th>model_inputs</th>\n",
       "      <th>model_inputs_as_nums</th>\n",
       "    </tr>\n",
       "  </thead>\n",
       "  <tbody>\n",
       "    <tr>\n",
       "      <th>60</th>\n",
       "      <td>inger &lt;1&gt;</td>\n",
       "      <td>[inger &lt;1&gt;]</td>\n",
       "      <td>[[1177, 1]]</td>\n",
       "    </tr>\n",
       "    <tr>\n",
       "      <th>61</th>\n",
       "      <td>r -l &lt;2&gt;</td>\n",
       "      <td>[r -l, -l &lt;2&gt;]</td>\n",
       "      <td>[[79, 15], [15, 4]]</td>\n",
       "    </tr>\n",
       "    <tr>\n",
       "      <th>62</th>\n",
       "      <td>exit</td>\n",
       "      <td>[exit]</td>\n",
       "      <td>[[13, 0]]</td>\n",
       "    </tr>\n",
       "    <tr>\n",
       "      <th>63</th>\n",
       "      <td>elm</td>\n",
       "      <td>[elm]</td>\n",
       "      <td>[[7, 0]]</td>\n",
       "    </tr>\n",
       "    <tr>\n",
       "      <th>64</th>\n",
       "      <td>elm</td>\n",
       "      <td>[elm]</td>\n",
       "      <td>[[7, 0]]</td>\n",
       "    </tr>\n",
       "  </tbody>\n",
       "</table>\n",
       "</div>"
      ],
      "text/plain": [
       "    line_text    model_inputs model_inputs_as_nums\n",
       "60  inger <1>     [inger <1>]          [[1177, 1]]\n",
       "61   r -l <2>  [r -l, -l <2>]  [[79, 15], [15, 4]]\n",
       "62       exit          [exit]            [[13, 0]]\n",
       "63        elm           [elm]             [[7, 0]]\n",
       "64        elm           [elm]             [[7, 0]]"
      ]
     },
     "execution_count": 7,
     "metadata": {},
     "output_type": "execute_result"
    }
   ],
   "source": [
    "corpus.iloc[60:65].to_frame().assign(\n",
    "    model_inputs = [ tokenizer.sequences_to_texts(segment_and_pad(t)) for t in encoded[60:65]],\n",
    "    model_inputs_as_nums = [ segment_and_pad(t) for t in encoded[60:65]]\n",
    ")"
   ]
  },
  {
   "cell_type": "code",
   "execution_count": 8,
   "metadata": {},
   "outputs": [
    {
     "name": "stderr",
     "output_type": "stream",
     "text": [
      "Segmenting and padding...: 100%|██████████| 145687/145687 [04:43<00:00, 514.75it/s] \n"
     ]
    }
   ],
   "source": [
    "sequences = segment_and_pad_all(encoded, size=2)"
   ]
  },
  {
   "cell_type": "code",
   "execution_count": 10,
   "metadata": {},
   "outputs": [
    {
     "data": {
      "text/plain": [
       "(162049, 2)"
      ]
     },
     "execution_count": 10,
     "metadata": {},
     "output_type": "execute_result"
    }
   ],
   "source": [
    "sequences = np.array(sequences)\n",
    "sequences.shape"
   ]
  },
  {
   "cell_type": "code",
   "execution_count": null,
   "metadata": {},
   "outputs": [],
   "source": [
    "X = sequences[:,0]\n",
    "y = to_categorical(sequences[:,1], num_classes=vocab_size)\n",
    "\n",
    "X_train, X_test, y_train, y_test = train_test_split(\n",
    "    X, y, \n",
    "    test_size=0.50, \n",
    "    random_state=2019\n",
    ")"
   ]
  },
  {
   "cell_type": "code",
   "execution_count": null,
   "metadata": {},
   "outputs": [],
   "source": [
    "model = Sequential([\n",
    "    Embedding(vocab_size, 100, input_length=1),\n",
    "    LSTM(100, dropout = 0.2),\n",
    "    Dense(vocab_size, activation='softmax')\n",
    "])\n",
    "model.compile(\n",
    "    loss='categorical_crossentropy', \n",
    "    optimizer='adam', \n",
    "    metrics=['accuracy']\n",
    ")\n",
    "\n",
    "history = model.fit(X_train, y_train, validation_split=0.25, epochs=10, batch_size=16, verbose=1)"
   ]
  },
  {
   "cell_type": "code",
   "execution_count": 25,
   "metadata": {},
   "outputs": [
    {
     "data": {
      "image/png": "[encoded data removed]",
      "text/plain": [
       "<Figure size 432x288 with 1 Axes>"
      ]
     },
     "metadata": {
      "needs_background": "light"
     },
     "output_type": "display_data"
    },
    {
     "data": {
      "image/png": "[encoded data removed]",
      "text/plain": [
       "<Figure size 432x288 with 1 Axes>"
      ]
     },
     "metadata": {
      "needs_background": "light"
     },
     "output_type": "display_data"
    }
   ],
   "source": [
    "# Plot training & validation accuracy values\n",
    "plt.plot(history.history['acc'])\n",
    "plt.plot(history.history['loss'])\n",
    "plt.title('Model Training')\n",
    "plt.ylabel('Accuracy')\n",
    "plt.xlabel('Epoch')\n",
    "plt.legend(['accuracy', 'loss'], loc='upper left')\n",
    "plt.show()\n",
    "\n",
    "# Plot training & validation loss values\n",
    "plt.plot(history.history['val_acc'])\n",
    "plt.plot(history.history['val_loss'])\n",
    "plt.title('Model Validation')\n",
    "plt.ylabel('Loss')\n",
    "plt.xlabel('Epoch')\n",
    "plt.legend(['accuracy', 'loss'], loc='upper left')\n",
    "plt.show()"
   ]
  },
  {
   "cell_type": "code",
   "execution_count": 38,
   "metadata": {},
   "outputs": [],
   "source": [
    "y_pred = model.predict_classes(X_test)\n",
    "y_truth = y_test.argmax(axis=1)"
   ]
  },
  {
   "cell_type": "code",
   "execution_count": 60,
   "metadata": {},
   "outputs": [
    {
     "name": "stdout",
     "output_type": "stream",
     "text": [
      "  Holdout Set Accuracy = 81.08%\n"
     ]
    }
   ],
   "source": [
    "from sklearn.metrics import accuracy_score\n",
    "print(\n",
    "    f\"  Holdout Set Accuracy = {round(accuracy_score(y_truth, y_pred)*100,2)}%\"\n",
    ")"
   ]
  },
  {
   "cell_type": "markdown",
   "metadata": {},
   "source": [
    "# Model 2: Padded Lines"
   ]
  },
  {
   "cell_type": "code",
   "execution_count": 87,
   "metadata": {},
   "outputs": [
    {
     "data": {
      "text/html": [
       "<div>\n",
       "<style scoped>\n",
       "    .dataframe tbody tr th:only-of-type {\n",
       "        vertical-align: middle;\n",
       "    }\n",
       "\n",
       "    .dataframe tbody tr th {\n",
       "        vertical-align: top;\n",
       "    }\n",
       "\n",
       "    .dataframe thead th {\n",
       "        text-align: right;\n",
       "    }\n",
       "</style>\n",
       "<table border=\"1\" class=\"dataframe\">\n",
       "  <thead>\n",
       "    <tr style=\"text-align: right;\">\n",
       "      <th></th>\n",
       "      <th>line_text</th>\n",
       "      <th>model_inputs</th>\n",
       "      <th>model_inputs_as_nums</th>\n",
       "    </tr>\n",
       "  </thead>\n",
       "  <tbody>\n",
       "    <tr>\n",
       "      <th>100</th>\n",
       "      <td>finger &lt;1&gt;</td>\n",
       "      <td>[finger &lt;1&gt;]</td>\n",
       "      <td>[[0, 0, 18, 1]]</td>\n",
       "    </tr>\n",
       "    <tr>\n",
       "      <th>101</th>\n",
       "      <td>lname &lt;2&gt;</td>\n",
       "      <td>[lname &lt;2&gt;]</td>\n",
       "      <td>[[0, 0, 257, 4]]</td>\n",
       "    </tr>\n",
       "    <tr>\n",
       "      <th>102</th>\n",
       "      <td>lname &lt;1&gt; | grep &lt;1&gt;</td>\n",
       "      <td>[lname &lt;1&gt; | grep, &lt;1&gt; | grep &lt;1&gt;]</td>\n",
       "      <td>[[257, 1, 21, 9], [1, 21, 9, 1]]</td>\n",
       "    </tr>\n",
       "    <tr>\n",
       "      <th>103</th>\n",
       "      <td>finger &lt;1&gt;</td>\n",
       "      <td>[finger &lt;1&gt;]</td>\n",
       "      <td>[[0, 0, 18, 1]]</td>\n",
       "    </tr>\n",
       "    <tr>\n",
       "      <th>104</th>\n",
       "      <td>finger &lt;1&gt;</td>\n",
       "      <td>[finger &lt;1&gt;]</td>\n",
       "      <td>[[0, 0, 18, 1]]</td>\n",
       "    </tr>\n",
       "    <tr>\n",
       "      <th>105</th>\n",
       "      <td>ping &lt;1&gt;</td>\n",
       "      <td>[ping &lt;1&gt;]</td>\n",
       "      <td>[[0, 0, 93, 1]]</td>\n",
       "    </tr>\n",
       "    <tr>\n",
       "      <th>106</th>\n",
       "      <td>finger &lt;1&gt;</td>\n",
       "      <td>[finger &lt;1&gt;]</td>\n",
       "      <td>[[0, 0, 18, 1]]</td>\n",
       "    </tr>\n",
       "    <tr>\n",
       "      <th>107</th>\n",
       "      <td>finger &lt;1&gt;</td>\n",
       "      <td>[finger &lt;1&gt;]</td>\n",
       "      <td>[[0, 0, 18, 1]]</td>\n",
       "    </tr>\n",
       "    <tr>\n",
       "      <th>108</th>\n",
       "      <td>finger &lt;1&gt;</td>\n",
       "      <td>[finger &lt;1&gt;]</td>\n",
       "      <td>[[0, 0, 18, 1]]</td>\n",
       "    </tr>\n",
       "    <tr>\n",
       "      <th>109</th>\n",
       "      <td>date</td>\n",
       "      <td>[date]</td>\n",
       "      <td>[[0, 0, 0, 59]]</td>\n",
       "    </tr>\n",
       "  </tbody>\n",
       "</table>\n",
       "</div>"
      ],
      "text/plain": [
       "                line_text                        model_inputs  \\\n",
       "100            finger <1>                        [finger <1>]   \n",
       "101             lname <2>                         [lname <2>]   \n",
       "102  lname <1> | grep <1>  [lname <1> | grep, <1> | grep <1>]   \n",
       "103            finger <1>                        [finger <1>]   \n",
       "104            finger <1>                        [finger <1>]   \n",
       "105              ping <1>                          [ping <1>]   \n",
       "106            finger <1>                        [finger <1>]   \n",
       "107            finger <1>                        [finger <1>]   \n",
       "108            finger <1>                        [finger <1>]   \n",
       "109                  date                              [date]   \n",
       "\n",
       "                 model_inputs_as_nums  \n",
       "100                   [[0, 0, 18, 1]]  \n",
       "101                  [[0, 0, 257, 4]]  \n",
       "102  [[257, 1, 21, 9], [1, 21, 9, 1]]  \n",
       "103                   [[0, 0, 18, 1]]  \n",
       "104                   [[0, 0, 18, 1]]  \n",
       "105                   [[0, 0, 93, 1]]  \n",
       "106                   [[0, 0, 18, 1]]  \n",
       "107                   [[0, 0, 18, 1]]  \n",
       "108                   [[0, 0, 18, 1]]  \n",
       "109                   [[0, 0, 0, 59]]  "
      ]
     },
     "execution_count": 87,
     "metadata": {},
     "output_type": "execute_result"
    }
   ],
   "source": [
    "corpus.iloc[100:110].to_frame().assign(\n",
    "    model_inputs = [ tokenizer.sequences_to_texts(segment_and_pad(t, size=4)) for t in encoded[100:110]],\n",
    "    model_inputs_as_nums = [ segment_and_pad(t, size=4) for t in encoded[100:110]]\n",
    ")"
   ]
  },
  {
   "cell_type": "code",
   "execution_count": null,
   "metadata": {},
   "outputs": [
    {
     "name": "stderr",
     "output_type": "stream",
     "text": [
      "Segmenting and padding...:  80%|███████▉  | 116282/145687 [01:46<01:15, 387.21it/s] "
     ]
    }
   ],
   "source": [
    "sequences = segment_and_pad_all(encoded, size=4)"
   ]
  },
  {
   "cell_type": "code",
   "execution_count": null,
   "metadata": {},
   "outputs": [],
   "source": [
    "sequences = np.array(sequences)\n",
    "X = sequences[:,:-1]\n",
    "y = to_categorical(sequences[:,-1], num_classes=vocab_size)\n",
    "\n",
    "X_train, X_test, y_train, y_test = train_test_split(\n",
    "    X, y, \n",
    "    test_size=0.50, \n",
    "    random_state=2019\n",
    ")"
   ]
  },
  {
   "cell_type": "code",
   "execution_count": null,
   "metadata": {},
   "outputs": [],
   "source": [
    "model = Sequential([\n",
    "    Embedding(vocab_size, 10, input_length=3),\n",
    "    LSTM(max_length, dropout = 0.2),\n",
    "    Dense(vocab_size, activation='softmax')\n",
    "])\n",
    "model.compile(\n",
    "    loss='categorical_crossentropy', \n",
    "    optimizer='adam', \n",
    "    metrics=['accuracy']\n",
    ")\n",
    "\n",
    "history = model.fit(X_train, y_train, validation_split=0.25, epochs=2, batch_size=16, verbose=1)"
   ]
  }
 ],
 "metadata": {
  "kernelspec": {
   "display_name": "Python [conda env:acp2]",
   "language": "python",
   "name": "conda-env-acp2-py"
  },
  "language_info": {
   "codemirror_mode": {
    "name": "ipython",
    "version": 3
   },
   "file_extension": ".py",
   "mimetype": "text/x-python",
   "name": "python",
   "nbconvert_exporter": "python",
   "pygments_lexer": "ipython3",
   "version": "3.7.2"
  },
  "toc": {
   "base_numbering": 1,
   "nav_menu": {},
   "number_sections": false,
   "sideBar": false,
   "skip_h1_title": false,
   "title_cell": "Table of Contents",
   "title_sidebar": "Contents",
   "toc_cell": false,
   "toc_position": {},
   "toc_section_display": false,
   "toc_window_display": false
  }
 },
 "nbformat": 4,
 "nbformat_minor": 2
}
